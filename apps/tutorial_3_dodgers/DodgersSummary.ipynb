{
 "cells": [
  {
   "cell_type": "code",
   "execution_count": 1,
   "metadata": {},
   "outputs": [],
   "source": [
    "trafficPath = \"file:////Users/delshawnkirksey/Development/spark/apps/tutorial_3_dodgers/Dodgers.data.txt\"\n",
    "gamesPath = \"file:////Users/delshawnkirksey/Development/spark/apps/tutorial_3_dodgers/Dodgers.events.txt\""
   ]
  },
  {
   "cell_type": "code",
   "execution_count": 19,
   "metadata": {},
   "outputs": [],
   "source": [
    "traffic = sc.textFile(trafficPath)\n",
    "games = sc.textFile(gamesPath)"
   ]
  },
  {
   "cell_type": "code",
   "execution_count": 3,
   "metadata": {},
   "outputs": [],
   "source": [
    "\"\"\"\n",
    "The following will take the traffic RDD\n",
    "and parse the string dates into date objects\n",
    "\"\"\"\n",
    "\n",
    "from datetime import datetime\n",
    "import csv\n",
    "from io import StringIO\n",
    "\n",
    "# will return a tuple representative of [Date, num of Cars]\n",
    "def parseTraffic(row):\n",
    "    DATE_FMT = \"%m/%d/%Y %H:%M\" # uses the date pattern from the .data file\n",
    "    row = row.split(\",\")\n",
    "    row[0] = datetime.strptime(row[0], DATE_FMT) # date\n",
    "    row[1] = int(row[1]) # num of cars\n",
    "    return (row[0], row[1])"
   ]
  },
  {
   "cell_type": "code",
   "execution_count": 4,
   "metadata": {},
   "outputs": [],
   "source": [
    "# parse the traffic RDD using the function above\n",
    "trafficParsed = traffic.map(parseTraffic)"
   ]
  },
  {
   "cell_type": "code",
   "execution_count": 8,
   "metadata": {},
   "outputs": [],
   "source": [
    "# create a new RDD with the date as the key and the \n",
    "# total number of cars that passed by as the value\n",
    "dailyTrend = trafficParsed.map(lambda x: (x[0].date(), x[1]))\\\n",
    "                .reduceByKey(lambda x,y : x+y)"
   ]
  },
  {
   "cell_type": "code",
   "execution_count": 7,
   "metadata": {},
   "outputs": [
    {
     "data": {
      "text/plain": [
       "[(datetime.date(2005, 7, 28), 7661),\n",
       " (datetime.date(2005, 7, 29), 7499),\n",
       " (datetime.date(2005, 8, 12), 7287),\n",
       " (datetime.date(2005, 7, 27), 7238),\n",
       " (datetime.date(2005, 9, 23), 7175),\n",
       " (datetime.date(2005, 7, 26), 7163),\n",
       " (datetime.date(2005, 5, 20), 7119),\n",
       " (datetime.date(2005, 8, 11), 7110),\n",
       " (datetime.date(2005, 9, 8), 7107),\n",
       " (datetime.date(2005, 9, 7), 7082)]"
      ]
     },
     "execution_count": 7,
     "metadata": {},
     "output_type": "execute_result"
    }
   ],
   "source": [
    "# sort the data to see which days have the most traffic\n",
    "# sorted based on the second element -> traffic or number of cars\n",
    "dailyTrend.sortBy(lambda x:-x[1]).take(10)"
   ]
  },
  {
   "cell_type": "code",
   "execution_count": 11,
   "metadata": {},
   "outputs": [],
   "source": [
    "def parseGames(row):\n",
    "    DATE_FMT = \"%m/%d/%y\"\n",
    "    row = row.split(\",\")\n",
    "    # convert the date strings to dates based on the given format\n",
    "    row[0] = datetime.strptime(row[0], DATE_FMT).date()\n",
    "    # return the date and the opponent per day\n",
    "    return (row[0], row[4])\n",
    "\n",
    "# create a new RDD using the above function\n",
    "gamesParsed = games.map(parseGames)"
   ]
  },
  {
   "cell_type": "code",
   "execution_count": 12,
   "metadata": {},
   "outputs": [],
   "source": [
    "# join the rwo parsed RDDs -- using leftOuterJoin to keep all dates\n",
    "dailyTrendCombined = dailyTrend.leftOuterJoin(gamesParsed)"
   ]
  },
  {
   "cell_type": "code",
   "execution_count": 16,
   "metadata": {},
   "outputs": [],
   "source": [
    "\"\"\"\n",
    "Checks each row of the combined RDD and returns a tuple\n",
    "stating whether it was a 'Game Day' or 'Regular Day'\n",
    "\"\"\"\n",
    "def checkGameDay(row):\n",
    "    if row[1][1] == None:\n",
    "        return (row[0],row[1][1], \"Regular Day\", row[1][0])\n",
    "    else:\n",
    "        return (row[0],row[1][1], \"Game Day\", row[1][0])\n",
    "    \n",
    "dailyTrendbyGames = dailyTrendCombined.map(checkGameDay)"
   ]
  },
  {
   "cell_type": "code",
   "execution_count": 18,
   "metadata": {},
   "outputs": [
    {
     "data": {
      "text/plain": [
       "[(datetime.date(2005, 7, 28), 'Cincinnati', 'Game Day', 7661),\n",
       " (datetime.date(2005, 7, 29), 'St. Louis', 'Game Day', 7499),\n",
       " (datetime.date(2005, 8, 12), 'NY Mets', 'Game Day', 7287),\n",
       " (datetime.date(2005, 7, 27), 'Cincinnati', 'Game Day', 7238),\n",
       " (datetime.date(2005, 9, 23), 'Pittsburgh', 'Game Day', 7175),\n",
       " (datetime.date(2005, 7, 26), 'Cincinnati', 'Game Day', 7163),\n",
       " (datetime.date(2005, 5, 20), 'LA Angels', 'Game Day', 7119),\n",
       " (datetime.date(2005, 8, 11), 'Philadelphia', 'Game Day', 7110),\n",
       " (datetime.date(2005, 9, 8), None, 'Regular Day', 7107),\n",
       " (datetime.date(2005, 9, 7), 'San Francisco', 'Game Day', 7082)]"
      ]
     },
     "execution_count": 18,
     "metadata": {},
     "output_type": "execute_result"
    }
   ],
   "source": [
    "# view top 10 highest traffic days\n",
    "dailyTrendbyGames.sortBy(lambda x: -x[3]).take(10)"
   ]
  },
  {
   "cell_type": "code",
   "execution_count": 20,
   "metadata": {},
   "outputs": [
    {
     "data": {
      "text/plain": [
       "[('Regular Day', 5411.329787234043), ('Game Day', 5948.604938271605)]"
      ]
     },
     "execution_count": 20,
     "metadata": {},
     "output_type": "execute_result"
    }
   ],
   "source": [
    "\"\"\"\n",
    "Use combineByKey to obtain the average on game day vs. non game day.\n",
    "\n",
    "Steps:\n",
    "1. Map the RDD to a new Pair RDD of just Day Type and Traffic\n",
    "2. Combine the RDD by the key: Day Type -- createCombiner Function\n",
    "3. Merge the Traffic values based on Day Type -- merge Function\n",
    "4. Combine the results to get total # of Day Types and total overall Traffic -- mergeCombiners Function\n",
    "5. Map the VALUES ONLY (Traffic & # Day Types) dividing total Traffic by # of Day Types\n",
    "6. Collect the data to return the resuls\n",
    "\"\"\"\n",
    "dailyTrendbyGames.map(lambda x: (x[2], x[3]))\\\n",
    "                    .combineByKey(lambda value : (value, 1),\\\n",
    "                lambda acc, value: (acc[0] + value, acc[1] + 1),\\\n",
    "                lambda acc1, acc2: (acc1[0] + acc2[0], acc1[1] + acc2[1]))\\\n",
    "                .mapValues(lambda x: x[0]/x[1])\\\n",
    "                .collect()"
   ]
  },
  {
   "cell_type": "code",
   "execution_count": null,
   "metadata": {},
   "outputs": [],
   "source": []
  }
 ],
 "metadata": {
  "kernelspec": {
   "display_name": "Python 3",
   "language": "python",
   "name": "python3"
  },
  "language_info": {
   "codemirror_mode": {
    "name": "ipython",
    "version": 3
   },
   "file_extension": ".py",
   "mimetype": "text/x-python",
   "name": "python",
   "nbconvert_exporter": "python",
   "pygments_lexer": "ipython3",
   "version": "3.6.0"
  }
 },
 "nbformat": 4,
 "nbformat_minor": 2
}
