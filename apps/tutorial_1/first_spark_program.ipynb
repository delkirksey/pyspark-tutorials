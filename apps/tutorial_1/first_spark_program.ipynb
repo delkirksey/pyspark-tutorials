{
 "cells": [
  {
   "cell_type": "code",
   "execution_count": 1,
   "metadata": {},
   "outputs": [
    {
     "data": {
      "text/plain": [
       "''"
      ]
     },
     "execution_count": 1,
     "metadata": {},
     "output_type": "execute_result"
    }
   ],
   "source": [
    "sc"
   ]
  },
  {
   "cell_type": "code",
   "execution_count": 2,
   "metadata": {},
   "outputs": [
    {
     "ename": "NameError",
     "evalue": "name 'sc' is not defined",
     "output_type": "error",
     "traceback": [
      "\u001b[0;31m---------------------------------------------------------------------------\u001b[0m",
      "\u001b[0;31mNameError\u001b[0m                                 Traceback (most recent call last)",
      "\u001b[0;32m<ipython-input-2-6dacee465ff4>\u001b[0m in \u001b[0;36m<module>\u001b[0;34m()\u001b[0m\n\u001b[1;32m      1\u001b[0m \u001b[0mfilePath\u001b[0m \u001b[0;34m=\u001b[0m \u001b[0;34m\"file:///Users/delshawnkirksey/Downloads/eth.csv\"\u001b[0m\u001b[0;34m\u001b[0m\u001b[0m\n\u001b[0;32m----> 2\u001b[0;31m \u001b[0meth\u001b[0m \u001b[0;34m=\u001b[0m \u001b[0msc\u001b[0m\u001b[0;34m.\u001b[0m\u001b[0mtextFile\u001b[0m\u001b[0;34m(\u001b[0m\u001b[0mfilePath\u001b[0m\u001b[0;34m)\u001b[0m \u001b[0;31m# a transformation - data from the csv is loaded into an RDD named eth\u001b[0m\u001b[0;34m\u001b[0m\u001b[0m\n\u001b[0m",
      "\u001b[0;31mNameError\u001b[0m: name 'sc' is not defined"
     ]
    }
   ],
   "source": [
    "filePath = \"file:///Users/delshawnkirksey/Downloads/eth.csv\"\n",
    "eth = sc.textFile(filePath) # a transformation - data from the csv is loaded into an RDD named eth"
   ]
  },
  {
   "cell_type": "code",
   "execution_count": 3,
   "metadata": {},
   "outputs": [
    {
     "data": {
      "text/plain": [
       "file:///Users/delshawnkirksey/Downloads/eth.csv MapPartitionsRDD[1] at textFile at NativeMethodAccessorImpl.java:0"
      ]
     },
     "execution_count": 3,
     "metadata": {},
     "output_type": "execute_result"
    }
   ],
   "source": [
    "eth # return the RDD object"
   ]
  },
  {
   "cell_type": "code",
   "execution_count": 5,
   "metadata": {},
   "outputs": [
    {
     "data": {
      "text/plain": [
       "['Date,Open,High,Low,Close,Adj Close,Volume',\n",
       " '2017-12-10,27.510000,27.750000,23.350000,25.270000,25.270000,36546255',\n",
       " '2017-12-11,25.270000,28.490000,25.230000,26.639999,26.639999,41280353',\n",
       " '2017-12-12,26.639999,31.900000,26.580000,29.200001,29.200001,74039282',\n",
       " '2017-12-13,29.200001,33.290001,26.469999,29.000000,29.000000,89581611',\n",
       " '2017-12-14,28.990000,33.580002,28.790001,31.299999,31.299999,69737007',\n",
       " '2017-12-15,31.299999,32.200001,27.230000,31.459999,31.459999,60740566',\n",
       " '2017-12-16,31.459999,37.570000,30.299999,33.759998,33.759998,114975177',\n",
       " '2017-12-17,33.759998,35.799999,33.349998,34.020000,34.020000,43945001',\n",
       " '2017-12-18,34.020000,40.869999,31.340000,38.040001,38.040001,123823768']"
      ]
     },
     "execution_count": 5,
     "metadata": {},
     "output_type": "execute_result"
    }
   ],
   "source": [
    "eth.take(10) # an action - reads data from the RDD"
   ]
  },
  {
   "cell_type": "code",
   "execution_count": 6,
   "metadata": {},
   "outputs": [
    {
     "data": {
      "text/plain": [
       "33"
      ]
     },
     "execution_count": 6,
     "metadata": {},
     "output_type": "execute_result"
    }
   ],
   "source": [
    "eth.count() # an action -- counts the total number of rows"
   ]
  },
  {
   "cell_type": "code",
   "execution_count": 7,
   "metadata": {},
   "outputs": [
    {
     "data": {
      "text/plain": [
       "'Date,Open,High,Low,Close,Adj Close,Volume'"
      ]
     },
     "execution_count": 7,
     "metadata": {},
     "output_type": "execute_result"
    }
   ],
   "source": [
    "eth.first() # an action -- returns the first row"
   ]
  },
  {
   "cell_type": "code",
   "execution_count": 8,
   "metadata": {},
   "outputs": [
    {
     "data": {
      "text/plain": [
       "['Date,Open,High,Low,Close,Adj Close,Volume',\n",
       " '2017-12-10,27.510000,27.750000,23.350000,25.270000,25.270000,36546255',\n",
       " '2017-12-11,25.270000,28.490000,25.230000,26.639999,26.639999,41280353',\n",
       " '2017-12-12,26.639999,31.900000,26.580000,29.200001,29.200001,74039282',\n",
       " '2017-12-13,29.200001,33.290001,26.469999,29.000000,29.000000,89581611',\n",
       " '2017-12-14,28.990000,33.580002,28.790001,31.299999,31.299999,69737007',\n",
       " '2017-12-15,31.299999,32.200001,27.230000,31.459999,31.459999,60740566',\n",
       " '2017-12-16,31.459999,37.570000,30.299999,33.759998,33.759998,114975177',\n",
       " '2017-12-17,33.759998,35.799999,33.349998,34.020000,34.020000,43945001',\n",
       " '2017-12-18,34.020000,40.869999,31.340000,38.040001,38.040001,123823768',\n",
       " '2017-12-19,38.060001,42.959999,35.880001,37.400002,37.400002,132257190',\n",
       " '2017-12-20,37.400002,41.330002,34.200001,38.930000,38.930000,100761205',\n",
       " '2017-12-21,38.939999,42.650002,35.279999,36.970001,36.970001,80740487',\n",
       " '2017-12-22,36.970001,37.389999,18.530001,27.230000,27.230000,132189753',\n",
       " '2017-12-23,27.230000,31.410000,27.010000,28.440001,28.440001,46898036',\n",
       " '2017-12-24,28.440001,28.770000,23.670000,27.469999,27.469999,41273527',\n",
       " '2017-12-25,27.469999,29.450001,26.690001,28.580000,28.580000,23615529',\n",
       " '2017-12-26,28.580000,30.459999,28.530001,29.990000,29.990000,23564228',\n",
       " '2017-12-27,29.990000,30.740000,27.590000,28.780001,28.780001,24459145',\n",
       " '2017-12-28,28.780001,28.950001,25.180000,26.889999,26.889999,23440767',\n",
       " '2017-12-29,26.889999,28.629999,25.959999,27.379999,27.379999,26128205',\n",
       " '2017-12-30,27.350000,27.370001,22.770000,23.840000,23.840000,34204056',\n",
       " '2017-12-31,23.840000,26.610001,23.620001,26.049999,26.049999,18825166',\n",
       " '2018-01-01,26.049999,31.690001,25.240000,29.230000,29.230000,60650501',\n",
       " '2018-01-02,29.230000,34.380001,29.230000,31.870001,31.870001,63272688',\n",
       " '2018-01-03,31.870001,33.770000,30.100000,33.110001,33.110001,37525336',\n",
       " '2018-01-04,33.110001,37.080002,30.740000,33.770000,33.770000,61820302',\n",
       " '2018-01-05,33.770000,35.250000,30.549999,31.160000,31.160000,49900795',\n",
       " '2018-01-06,31.160000,34.639999,30.930000,34.000000,34.000000,32048572',\n",
       " '2018-01-07,34.000000,36.070000,33.950001,35.450001,35.450001,40901478',\n",
       " '2018-01-08,35.459999,38.500000,28.400000,33.810001,33.810001,78585083',\n",
       " '2018-01-09,33.810001,38.459999,31.180000,37.500000,37.500000,56120068',\n",
       " '2018-01-10,37.500000,38.849998,33.709999,37.889999,37.889999,67099216']"
      ]
     },
     "execution_count": 8,
     "metadata": {},
     "output_type": "execute_result"
    }
   ],
   "source": [
    "eth.collect() # an action -- returns the entire RDD as a list "
   ]
  },
  {
   "cell_type": "code",
   "execution_count": null,
   "metadata": {},
   "outputs": [],
   "source": []
  }
 ],
 "metadata": {
  "kernelspec": {
   "display_name": "Python 3",
   "language": "python",
   "name": "python3"
  },
  "language_info": {
   "codemirror_mode": {
    "name": "ipython",
    "version": 3
   },
   "file_extension": ".py",
   "mimetype": "text/x-python",
   "name": "python",
   "nbconvert_exporter": "python",
   "pygments_lexer": "ipython3",
   "version": "3.6.0"
  }
 },
 "nbformat": 4,
 "nbformat_minor": 2
}
